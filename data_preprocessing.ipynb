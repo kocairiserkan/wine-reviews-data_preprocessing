{
 "cells": [
  {
   "cell_type": "markdown",
   "metadata": {},
   "source": [
    "# Introduction\n",
    "\n",
    "![](https://4.bp.blogspot.com/--VcYZ84eGSM/UWqKVLEU0SI/AAAAAAAADNM/2m6wjEzpjOA/s1600/%C5%9EARAP.jpg)\n",
    "\n",
    "## Context\n",
    "\n",
    "This is a wine review data set.\n",
    "\n",
    "In this data set, there are information such as country, city, region where the wines are produced, as well as information such as prices and scores of wines.\n",
    "\n",
    "## Content\n",
    "1. [Load and Check Data](#0)\n",
    "1. [Dataset Description](#1)\n",
    "1. [Missing Value Analysis](#2)\n",
    "    * [Defining and Visualizing Missing Values](#3)\n",
    "    * [Testing the Randomness of Missing Values](#4)\n",
    "    * [Operations on Missing Values](#5)\n",
    "1. [Outlier Value Analysis](#6)\n",
    "    * [Outlier Value Detection Using Boxplot and Histogram](#7)\n",
    "    * [Outlier Value Analysis With IQR](#8) "
   ]
  },
  {
   "cell_type": "code",
   "execution_count": 1,
   "metadata": {},
   "outputs": [],
   "source": [
    "import numpy as np # linear algebra\n",
    "import pandas as pd # data processing, CSV file I/O (e.g. pd.read_csv)\n",
    "\n",
    "import seaborn as sns # visualization\n",
    "import matplotlib.pyplot as plt # visualization\n",
    "import missingno as msno # visualizatin for missing values\n",
    "\n",
    "import warnings\n",
    "warnings.filterwarnings(\"ignore\") # ignore warnings"
   ]
  },
  {
   "cell_type": "markdown",
   "metadata": {},
   "source": [
    "<a id=\"0\"></a>\n",
    "# Load and Check Data"
   ]
  },
  {
   "cell_type": "markdown",
   "metadata": {},
   "source": [
    "* Load file\n"
   ]
  },
  {
   "cell_type": "code",
   "execution_count": 2,
   "metadata": {},
   "outputs": [],
   "source": [
    "wine = pd.read_csv(\"winemag-data_first150k.csv\")\n",
    "df = wine.copy()"
   ]
  },
  {
   "cell_type": "markdown",
   "metadata": {},
   "source": [
    "* First 5 records in the Dataset"
   ]
  },
  {
   "cell_type": "code",
   "execution_count": 83,
   "metadata": {},
   "outputs": [
    {
     "data": {
      "text/html": [
       "<div>\n",
       "<style scoped>\n",
       "    .dataframe tbody tr th:only-of-type {\n",
       "        vertical-align: middle;\n",
       "    }\n",
       "\n",
       "    .dataframe tbody tr th {\n",
       "        vertical-align: top;\n",
       "    }\n",
       "\n",
       "    .dataframe thead th {\n",
       "        text-align: right;\n",
       "    }\n",
       "</style>\n",
       "<table border=\"1\" class=\"dataframe\">\n",
       "  <thead>\n",
       "    <tr style=\"text-align: right;\">\n",
       "      <th></th>\n",
       "      <th>Unnamed: 0</th>\n",
       "      <th>country</th>\n",
       "      <th>description</th>\n",
       "      <th>designation</th>\n",
       "      <th>points</th>\n",
       "      <th>price</th>\n",
       "      <th>province</th>\n",
       "      <th>region_1</th>\n",
       "      <th>region_2</th>\n",
       "      <th>variety</th>\n",
       "      <th>winery</th>\n",
       "    </tr>\n",
       "  </thead>\n",
       "  <tbody>\n",
       "    <tr>\n",
       "      <th>0</th>\n",
       "      <td>0</td>\n",
       "      <td>US</td>\n",
       "      <td>This tremendous 100% varietal wine hails from ...</td>\n",
       "      <td>Martha's Vineyard</td>\n",
       "      <td>96</td>\n",
       "      <td>235.0</td>\n",
       "      <td>California</td>\n",
       "      <td>Napa Valley</td>\n",
       "      <td>Napa</td>\n",
       "      <td>Cabernet Sauvignon</td>\n",
       "      <td>Heitz</td>\n",
       "    </tr>\n",
       "    <tr>\n",
       "      <th>1</th>\n",
       "      <td>1</td>\n",
       "      <td>Spain</td>\n",
       "      <td>Ripe aromas of fig, blackberry and cassis are ...</td>\n",
       "      <td>Carodorum Selección Especial Reserva</td>\n",
       "      <td>96</td>\n",
       "      <td>110.0</td>\n",
       "      <td>Northern Spain</td>\n",
       "      <td>Toro</td>\n",
       "      <td>NaN</td>\n",
       "      <td>Tinta de Toro</td>\n",
       "      <td>Bodega Carmen Rodríguez</td>\n",
       "    </tr>\n",
       "    <tr>\n",
       "      <th>2</th>\n",
       "      <td>2</td>\n",
       "      <td>US</td>\n",
       "      <td>Mac Watson honors the memory of a wine once ma...</td>\n",
       "      <td>Special Selected Late Harvest</td>\n",
       "      <td>96</td>\n",
       "      <td>90.0</td>\n",
       "      <td>California</td>\n",
       "      <td>Knights Valley</td>\n",
       "      <td>Sonoma</td>\n",
       "      <td>Sauvignon Blanc</td>\n",
       "      <td>Macauley</td>\n",
       "    </tr>\n",
       "    <tr>\n",
       "      <th>3</th>\n",
       "      <td>3</td>\n",
       "      <td>US</td>\n",
       "      <td>This spent 20 months in 30% new French oak, an...</td>\n",
       "      <td>Reserve</td>\n",
       "      <td>96</td>\n",
       "      <td>65.0</td>\n",
       "      <td>Oregon</td>\n",
       "      <td>Willamette Valley</td>\n",
       "      <td>Willamette Valley</td>\n",
       "      <td>Pinot Noir</td>\n",
       "      <td>Ponzi</td>\n",
       "    </tr>\n",
       "    <tr>\n",
       "      <th>4</th>\n",
       "      <td>4</td>\n",
       "      <td>France</td>\n",
       "      <td>This is the top wine from La Bégude, named aft...</td>\n",
       "      <td>La Brûlade</td>\n",
       "      <td>95</td>\n",
       "      <td>66.0</td>\n",
       "      <td>Provence</td>\n",
       "      <td>Bandol</td>\n",
       "      <td>NaN</td>\n",
       "      <td>Provence red blend</td>\n",
       "      <td>Domaine de la Bégude</td>\n",
       "    </tr>\n",
       "  </tbody>\n",
       "</table>\n",
       "</div>"
      ],
      "text/plain": [
       "   Unnamed: 0 country                                        description  \\\n",
       "0           0      US  This tremendous 100% varietal wine hails from ...   \n",
       "1           1   Spain  Ripe aromas of fig, blackberry and cassis are ...   \n",
       "2           2      US  Mac Watson honors the memory of a wine once ma...   \n",
       "3           3      US  This spent 20 months in 30% new French oak, an...   \n",
       "4           4  France  This is the top wine from La Bégude, named aft...   \n",
       "\n",
       "                            designation  points  price        province  \\\n",
       "0                     Martha's Vineyard      96  235.0      California   \n",
       "1  Carodorum Selección Especial Reserva      96  110.0  Northern Spain   \n",
       "2         Special Selected Late Harvest      96   90.0      California   \n",
       "3                               Reserve      96   65.0          Oregon   \n",
       "4                            La Brûlade      95   66.0        Provence   \n",
       "\n",
       "            region_1           region_2             variety  \\\n",
       "0        Napa Valley               Napa  Cabernet Sauvignon   \n",
       "1               Toro                NaN       Tinta de Toro   \n",
       "2     Knights Valley             Sonoma     Sauvignon Blanc   \n",
       "3  Willamette Valley  Willamette Valley          Pinot Noir   \n",
       "4             Bandol                NaN  Provence red blend   \n",
       "\n",
       "                    winery  \n",
       "0                    Heitz  \n",
       "1  Bodega Carmen Rodríguez  \n",
       "2                 Macauley  \n",
       "3                    Ponzi  \n",
       "4     Domaine de la Bégude  "
      ]
     },
     "execution_count": 83,
     "metadata": {},
     "output_type": "execute_result"
    }
   ],
   "source": [
    "df.head()"
   ]
  },
  {
   "cell_type": "markdown",
   "metadata": {},
   "source": [
    "<a id=\"1\"></a>\n",
    "# Dataset Description"
   ]
  },
  {
   "cell_type": "markdown",
   "metadata": {},
   "source": [
    "* With the info() function, we can see the total number of variables in the data set, the types of these variables and the number of observations in the variables.\n",
    "* Our Dataset consists of 150930 rows and 11 columns.\n",
    "* The most missing value is seen in the region_2 column.\n",
    "* Variables and types:\n",
    "    - float64(1):price\n",
    "    - int64(2):Unnamed: 0, points\n",
    "    - object(8):country, description, designation, province, region_1, region_2, variety, winery"
   ]
  },
  {
   "cell_type": "code",
   "execution_count": 84,
   "metadata": {},
   "outputs": [
    {
     "name": "stdout",
     "output_type": "stream",
     "text": [
      "<class 'pandas.core.frame.DataFrame'>\n",
      "RangeIndex: 150930 entries, 0 to 150929\n",
      "Data columns (total 11 columns):\n",
      " #   Column       Non-Null Count   Dtype  \n",
      "---  ------       --------------   -----  \n",
      " 0   Unnamed: 0   150930 non-null  int64  \n",
      " 1   country      150925 non-null  object \n",
      " 2   description  150930 non-null  object \n",
      " 3   designation  105195 non-null  object \n",
      " 4   points       150930 non-null  int64  \n",
      " 5   price        137235 non-null  float64\n",
      " 6   province     150925 non-null  object \n",
      " 7   region_1     125870 non-null  object \n",
      " 8   region_2     60953 non-null   object \n",
      " 9   variety      150930 non-null  object \n",
      " 10  winery       150930 non-null  object \n",
      "dtypes: float64(1), int64(2), object(8)\n",
      "memory usage: 12.7+ MB\n"
     ]
    }
   ],
   "source": [
    "df.info()"
   ]
  },
  {
   "cell_type": "markdown",
   "metadata": {},
   "source": [
    "* Dataset variable names."
   ]
  },
  {
   "cell_type": "code",
   "execution_count": 85,
   "metadata": {},
   "outputs": [
    {
     "data": {
      "text/plain": [
       "Index(['Unnamed: 0', 'country', 'description', 'designation', 'points',\n",
       "       'price', 'province', 'region_1', 'region_2', 'variety', 'winery'],\n",
       "      dtype='object')"
      ]
     },
     "execution_count": 85,
     "metadata": {},
     "output_type": "execute_result"
    }
   ],
   "source": [
    "df.columns"
   ]
  },
  {
   "cell_type": "markdown",
   "metadata": {},
   "source": [
    "### Variable Description"
   ]
  },
  {
   "cell_type": "markdown",
   "metadata": {},
   "source": [
    " 1. **Unnamed: 0**:  A variable with no name and a variable specifying indexes will be deleted below because it is unnecessary.\n",
    " 1. **country**:  Variable indicating the countries of wines.\n",
    " 1. **description**:  A variable with descriptions about wines.\n",
    " 1. **designation**: Wine names.\n",
    " 1. **points**:  Scores of wines. (min=80, max=100)\n",
    " 1. **price**:  Prices of wines.\n",
    " 1. **province**: The variable that indicates the city where the wines are located in the country.\n",
    " 1. **region_1**: Region in the province.\n",
    " 1. **region_2**: Region in the province.\n",
    " 1. **variety**: Grape varieties.\n",
    " 1. **winery**: Winery names."
   ]
  },
  {
   "cell_type": "markdown",
   "metadata": {},
   "source": [
    "* Unnecessary variable deletion."
   ]
  },
  {
   "cell_type": "code",
   "execution_count": 86,
   "metadata": {},
   "outputs": [],
   "source": [
    "df.drop(\"Unnamed: 0\", axis = 1, inplace = True)"
   ]
  },
  {
   "cell_type": "markdown",
   "metadata": {},
   "source": [
    "* Check, delete successful. Our new number of variables is 10."
   ]
  },
  {
   "cell_type": "code",
   "execution_count": 87,
   "metadata": {},
   "outputs": [
    {
     "data": {
      "text/plain": [
       "Index(['country', 'description', 'designation', 'points', 'price', 'province',\n",
       "       'region_1', 'region_2', 'variety', 'winery'],\n",
       "      dtype='object')"
      ]
     },
     "execution_count": 87,
     "metadata": {},
     "output_type": "execute_result"
    }
   ],
   "source": [
    "df.columns"
   ]
  },
  {
   "cell_type": "markdown",
   "metadata": {},
   "source": [
    "* Statistical information about the dataset.\n",
    "    * You can access information such as means, medians, standard deviations, minimum and maximum values of numerical variables with the describe() function."
   ]
  },
  {
   "cell_type": "code",
   "execution_count": 88,
   "metadata": {},
   "outputs": [
    {
     "data": {
      "text/html": [
       "<div>\n",
       "<style scoped>\n",
       "    .dataframe tbody tr th:only-of-type {\n",
       "        vertical-align: middle;\n",
       "    }\n",
       "\n",
       "    .dataframe tbody tr th {\n",
       "        vertical-align: top;\n",
       "    }\n",
       "\n",
       "    .dataframe thead th {\n",
       "        text-align: right;\n",
       "    }\n",
       "</style>\n",
       "<table border=\"1\" class=\"dataframe\">\n",
       "  <thead>\n",
       "    <tr style=\"text-align: right;\">\n",
       "      <th></th>\n",
       "      <th>points</th>\n",
       "      <th>price</th>\n",
       "    </tr>\n",
       "  </thead>\n",
       "  <tbody>\n",
       "    <tr>\n",
       "      <th>count</th>\n",
       "      <td>150930.000</td>\n",
       "      <td>137235.000</td>\n",
       "    </tr>\n",
       "    <tr>\n",
       "      <th>mean</th>\n",
       "      <td>87.888</td>\n",
       "      <td>33.131</td>\n",
       "    </tr>\n",
       "    <tr>\n",
       "      <th>std</th>\n",
       "      <td>3.222</td>\n",
       "      <td>36.323</td>\n",
       "    </tr>\n",
       "    <tr>\n",
       "      <th>min</th>\n",
       "      <td>80.000</td>\n",
       "      <td>4.000</td>\n",
       "    </tr>\n",
       "    <tr>\n",
       "      <th>25%</th>\n",
       "      <td>86.000</td>\n",
       "      <td>16.000</td>\n",
       "    </tr>\n",
       "    <tr>\n",
       "      <th>50%</th>\n",
       "      <td>88.000</td>\n",
       "      <td>24.000</td>\n",
       "    </tr>\n",
       "    <tr>\n",
       "      <th>75%</th>\n",
       "      <td>90.000</td>\n",
       "      <td>40.000</td>\n",
       "    </tr>\n",
       "    <tr>\n",
       "      <th>max</th>\n",
       "      <td>100.000</td>\n",
       "      <td>2300.000</td>\n",
       "    </tr>\n",
       "  </tbody>\n",
       "</table>\n",
       "</div>"
      ],
      "text/plain": [
       "           points       price\n",
       "count  150930.000  137235.000\n",
       "mean       87.888      33.131\n",
       "std         3.222      36.323\n",
       "min        80.000       4.000\n",
       "25%        86.000      16.000\n",
       "50%        88.000      24.000\n",
       "75%        90.000      40.000\n",
       "max       100.000    2300.000"
      ]
     },
     "execution_count": 88,
     "metadata": {},
     "output_type": "execute_result"
    }
   ],
   "source": [
    "round(df.describe(),3) "
   ]
  },
  {
   "cell_type": "markdown",
   "metadata": {},
   "source": [
    "* The correlation of numerical variables is examined in the dataset. It is determined that there is a moderate relationship between the variables."
   ]
  },
  {
   "cell_type": "code",
   "execution_count": 89,
   "metadata": {},
   "outputs": [
    {
     "data": {
      "image/png": "[encoded data removed]",
      "text/plain": [
       "<Figure size 864x360 with 2 Axes>"
      ]
     },
     "metadata": {
      "needs_background": "light"
     },
     "output_type": "display_data"
    }
   ],
   "source": [
    "plt.figure(figsize=(12,5))\n",
    "sns.heatmap(df.corr(),annot=True,linewidth=2.5,fmt='.3F',linecolor='black');"
   ]
  },
  {
   "cell_type": "markdown",
   "metadata": {},
   "source": [
    "* The relationship between numerical variables is examined. It cannot be said that there is a linear relationship between price and point variables when the data are examined."
   ]
  },
  {
   "cell_type": "code",
   "execution_count": 90,
   "metadata": {},
   "outputs": [
    {
     "data": {
      "image/png": "[encoded data removed]",
      "text/plain": [
       "<Figure size 360x360 with 6 Axes>"
      ]
     },
     "metadata": {
      "needs_background": "light"
     },
     "output_type": "display_data"
    }
   ],
   "source": [
    "sns.pairplot(df);"
   ]
  },
  {
   "cell_type": "markdown",
   "metadata": {},
   "source": [
    "<a id=\"2\"></a>\n",
    "# Missing Value Analysis"
   ]
  },
  {
   "cell_type": "markdown",
   "metadata": {},
   "source": [
    "*Used when the values in the dataset are missing.\n",
    "Missing values are generally NA.*"
   ]
  },
  {
   "cell_type": "markdown",
   "metadata": {},
   "source": [
    "* Is there any missing value in the data set?"
   ]
  },
  {
   "cell_type": "code",
   "execution_count": 91,
   "metadata": {},
   "outputs": [
    {
     "data": {
      "text/plain": [
       "True"
      ]
     },
     "execution_count": 91,
     "metadata": {},
     "output_type": "execute_result"
    }
   ],
   "source": [
    "df.isnull().values.any()"
   ]
  },
  {
   "cell_type": "markdown",
   "metadata": {},
   "source": [
    "<a id=\"3\"></a>\n",
    "## Defining and Visualizing Missing Values"
   ]
  },
  {
   "cell_type": "markdown",
   "metadata": {},
   "source": [
    "* Total missing values in the variables."
   ]
  },
  {
   "cell_type": "code",
   "execution_count": 92,
   "metadata": {},
   "outputs": [
    {
     "data": {
      "text/plain": [
       "country            5\n",
       "description        0\n",
       "designation    45735\n",
       "points             0\n",
       "price          13695\n",
       "province           5\n",
       "region_1       25060\n",
       "region_2       89977\n",
       "variety            0\n",
       "winery             0\n",
       "dtype: int64"
      ]
     },
     "execution_count": 92,
     "metadata": {},
     "output_type": "execute_result"
    }
   ],
   "source": [
    "df.isnull().sum()"
   ]
  },
  {
   "cell_type": "markdown",
   "metadata": {},
   "source": [
    "* Looking at the graph, the data at the top shows the missing data in the variables. On the left, it shows the percentages in the dataset. On the right, it shows the number of observations in the dataset. At the bottom of the graph, there are variable names."
   ]
  },
  {
   "cell_type": "code",
   "execution_count": 93,
   "metadata": {},
   "outputs": [
    {
     "data": {
      "image/png": "[encoded data removed]",
      "text/plain": [
       "<Figure size 1728x720 with 3 Axes>"
      ]
     },
     "metadata": {
      "needs_background": "light"
     },
     "output_type": "display_data"
    }
   ],
   "source": [
    "msno.bar(df,color = sns.color_palette('viridis'));"
   ]
  },
  {
   "cell_type": "markdown",
   "metadata": {},
   "source": [
    "<a id=\"4\"></a>\n",
    "## Testing the Randomness of Missing Values"
   ]
  },
  {
   "cell_type": "markdown",
   "metadata": {},
   "source": [
    "* When the graphic is examined, there are observation information in the data set on the left part, variable names in the upper part and missing observations on the right part."
   ]
  },
  {
   "cell_type": "code",
   "execution_count": 111,
   "metadata": {},
   "outputs": [
    {
     "data": {
      "image/png": "[encoded data removed]",
      "text/plain": [
       "<Figure size 1800x720 with 2 Axes>"
      ]
     },
     "metadata": {
      "needs_background": "light"
     },
     "output_type": "display_data"
    }
   ],
   "source": [
    "msno.matrix(df, color = (0.2, 0.4, 0.4));"
   ]
  },
  {
   "cell_type": "markdown",
   "metadata": {},
   "source": [
    "* Heat maps are used to learn the relationships between variables. The values in this graph range from -1 to 1. If the value is 1 there is a correct relationship between the two variables, if the value is -1 there is a inverse relationship between the two variables. If the value is 0, there is no relationship between the two variables."
   ]
  },
  {
   "cell_type": "code",
   "execution_count": 112,
   "metadata": {},
   "outputs": [
    {
     "data": {
      "image/png": "[encoded data removed]",
      "text/plain": [
       "<Figure size 1440x864 with 2 Axes>"
      ]
     },
     "metadata": {
      "needs_background": "light"
     },
     "output_type": "display_data"
    }
   ],
   "source": [
    "msno.heatmap(df);"
   ]
  },
  {
   "cell_type": "markdown",
   "metadata": {},
   "source": [
    "* Missing value numbers and percentages."
   ]
  },
  {
   "cell_type": "code",
   "execution_count": 113,
   "metadata": {},
   "outputs": [
    {
     "data": {
      "text/html": [
       "<style  type=\"text/css\" >\n",
       "    #T_3f1f618c_c22a_11ea_afdb_74dfbfff32b6row0_col0 {\n",
       "            background-color:  #ff0000;\n",
       "            color:  #f1f1f1;\n",
       "        }    #T_3f1f618c_c22a_11ea_afdb_74dfbfff32b6row0_col1 {\n",
       "            background-color:  #ff0000;\n",
       "            color:  #f1f1f1;\n",
       "        }    #T_3f1f618c_c22a_11ea_afdb_74dfbfff32b6row1_col0 {\n",
       "            background-color:  #ff7070;\n",
       "            color:  #000000;\n",
       "        }    #T_3f1f618c_c22a_11ea_afdb_74dfbfff32b6row1_col1 {\n",
       "            background-color:  #ff7070;\n",
       "            color:  #000000;\n",
       "        }    #T_3f1f618c_c22a_11ea_afdb_74dfbfff32b6row2_col0 {\n",
       "            background-color:  #ffa6a6;\n",
       "            color:  #000000;\n",
       "        }    #T_3f1f618c_c22a_11ea_afdb_74dfbfff32b6row2_col1 {\n",
       "            background-color:  #ffa7a7;\n",
       "            color:  #000000;\n",
       "        }    #T_3f1f618c_c22a_11ea_afdb_74dfbfff32b6row3_col0 {\n",
       "            background-color:  #ffc3c3;\n",
       "            color:  #000000;\n",
       "        }    #T_3f1f618c_c22a_11ea_afdb_74dfbfff32b6row3_col1 {\n",
       "            background-color:  #ffc2c2;\n",
       "            color:  #000000;\n",
       "        }    #T_3f1f618c_c22a_11ea_afdb_74dfbfff32b6row4_col0 {\n",
       "            background-color:  #ffe5e5;\n",
       "            color:  #000000;\n",
       "        }    #T_3f1f618c_c22a_11ea_afdb_74dfbfff32b6row4_col1 {\n",
       "            background-color:  #ffe5e5;\n",
       "            color:  #000000;\n",
       "        }    #T_3f1f618c_c22a_11ea_afdb_74dfbfff32b6row5_col0 {\n",
       "            background-color:  #ffe5e5;\n",
       "            color:  #000000;\n",
       "        }    #T_3f1f618c_c22a_11ea_afdb_74dfbfff32b6row5_col1 {\n",
       "            background-color:  #ffe5e5;\n",
       "            color:  #000000;\n",
       "        }    #T_3f1f618c_c22a_11ea_afdb_74dfbfff32b6row6_col0 {\n",
       "            background-color:  #ffe5e5;\n",
       "            color:  #000000;\n",
       "        }    #T_3f1f618c_c22a_11ea_afdb_74dfbfff32b6row6_col1 {\n",
       "            background-color:  #ffe5e5;\n",
       "            color:  #000000;\n",
       "        }    #T_3f1f618c_c22a_11ea_afdb_74dfbfff32b6row7_col0 {\n",
       "            background-color:  #ffe5e5;\n",
       "            color:  #000000;\n",
       "        }    #T_3f1f618c_c22a_11ea_afdb_74dfbfff32b6row7_col1 {\n",
       "            background-color:  #ffe5e5;\n",
       "            color:  #000000;\n",
       "        }    #T_3f1f618c_c22a_11ea_afdb_74dfbfff32b6row8_col0 {\n",
       "            background-color:  #ffe5e5;\n",
       "            color:  #000000;\n",
       "        }    #T_3f1f618c_c22a_11ea_afdb_74dfbfff32b6row8_col1 {\n",
       "            background-color:  #ffe5e5;\n",
       "            color:  #000000;\n",
       "        }    #T_3f1f618c_c22a_11ea_afdb_74dfbfff32b6row9_col0 {\n",
       "            background-color:  #ffe5e5;\n",
       "            color:  #000000;\n",
       "        }    #T_3f1f618c_c22a_11ea_afdb_74dfbfff32b6row9_col1 {\n",
       "            background-color:  #ffe5e5;\n",
       "            color:  #000000;\n",
       "        }</style><table id=\"T_3f1f618c_c22a_11ea_afdb_74dfbfff32b6\" ><thead>    <tr>        <th class=\"blank level0\" ></th>        <th class=\"col_heading level0 col0\" >Missing Values</th>        <th class=\"col_heading level0 col1\" >% Value</th>    </tr></thead><tbody>\n",
       "                <tr>\n",
       "                        <th id=\"T_3f1f618c_c22a_11ea_afdb_74dfbfff32b6level0_row0\" class=\"row_heading level0 row0\" >region_2</th>\n",
       "                        <td id=\"T_3f1f618c_c22a_11ea_afdb_74dfbfff32b6row0_col0\" class=\"data row0 col0\" >89977</td>\n",
       "                        <td id=\"T_3f1f618c_c22a_11ea_afdb_74dfbfff32b6row0_col1\" class=\"data row0 col1\" >59</td>\n",
       "            </tr>\n",
       "            <tr>\n",
       "                        <th id=\"T_3f1f618c_c22a_11ea_afdb_74dfbfff32b6level0_row1\" class=\"row_heading level0 row1\" >designation</th>\n",
       "                        <td id=\"T_3f1f618c_c22a_11ea_afdb_74dfbfff32b6row1_col0\" class=\"data row1 col0\" >45735</td>\n",
       "                        <td id=\"T_3f1f618c_c22a_11ea_afdb_74dfbfff32b6row1_col1\" class=\"data row1 col1\" >30</td>\n",
       "            </tr>\n",
       "            <tr>\n",
       "                        <th id=\"T_3f1f618c_c22a_11ea_afdb_74dfbfff32b6level0_row2\" class=\"row_heading level0 row2\" >region_1</th>\n",
       "                        <td id=\"T_3f1f618c_c22a_11ea_afdb_74dfbfff32b6row2_col0\" class=\"data row2 col0\" >25060</td>\n",
       "                        <td id=\"T_3f1f618c_c22a_11ea_afdb_74dfbfff32b6row2_col1\" class=\"data row2 col1\" >16</td>\n",
       "            </tr>\n",
       "            <tr>\n",
       "                        <th id=\"T_3f1f618c_c22a_11ea_afdb_74dfbfff32b6level0_row3\" class=\"row_heading level0 row3\" >price</th>\n",
       "                        <td id=\"T_3f1f618c_c22a_11ea_afdb_74dfbfff32b6row3_col0\" class=\"data row3 col0\" >13695</td>\n",
       "                        <td id=\"T_3f1f618c_c22a_11ea_afdb_74dfbfff32b6row3_col1\" class=\"data row3 col1\" >9</td>\n",
       "            </tr>\n",
       "            <tr>\n",
       "                        <th id=\"T_3f1f618c_c22a_11ea_afdb_74dfbfff32b6level0_row4\" class=\"row_heading level0 row4\" >province</th>\n",
       "                        <td id=\"T_3f1f618c_c22a_11ea_afdb_74dfbfff32b6row4_col0\" class=\"data row4 col0\" >5</td>\n",
       "                        <td id=\"T_3f1f618c_c22a_11ea_afdb_74dfbfff32b6row4_col1\" class=\"data row4 col1\" >0</td>\n",
       "            </tr>\n",
       "            <tr>\n",
       "                        <th id=\"T_3f1f618c_c22a_11ea_afdb_74dfbfff32b6level0_row5\" class=\"row_heading level0 row5\" >country</th>\n",
       "                        <td id=\"T_3f1f618c_c22a_11ea_afdb_74dfbfff32b6row5_col0\" class=\"data row5 col0\" >5</td>\n",
       "                        <td id=\"T_3f1f618c_c22a_11ea_afdb_74dfbfff32b6row5_col1\" class=\"data row5 col1\" >0</td>\n",
       "            </tr>\n",
       "            <tr>\n",
       "                        <th id=\"T_3f1f618c_c22a_11ea_afdb_74dfbfff32b6level0_row6\" class=\"row_heading level0 row6\" >winery</th>\n",
       "                        <td id=\"T_3f1f618c_c22a_11ea_afdb_74dfbfff32b6row6_col0\" class=\"data row6 col0\" >0</td>\n",
       "                        <td id=\"T_3f1f618c_c22a_11ea_afdb_74dfbfff32b6row6_col1\" class=\"data row6 col1\" >0</td>\n",
       "            </tr>\n",
       "            <tr>\n",
       "                        <th id=\"T_3f1f618c_c22a_11ea_afdb_74dfbfff32b6level0_row7\" class=\"row_heading level0 row7\" >variety</th>\n",
       "                        <td id=\"T_3f1f618c_c22a_11ea_afdb_74dfbfff32b6row7_col0\" class=\"data row7 col0\" >0</td>\n",
       "                        <td id=\"T_3f1f618c_c22a_11ea_afdb_74dfbfff32b6row7_col1\" class=\"data row7 col1\" >0</td>\n",
       "            </tr>\n",
       "            <tr>\n",
       "                        <th id=\"T_3f1f618c_c22a_11ea_afdb_74dfbfff32b6level0_row8\" class=\"row_heading level0 row8\" >points</th>\n",
       "                        <td id=\"T_3f1f618c_c22a_11ea_afdb_74dfbfff32b6row8_col0\" class=\"data row8 col0\" >0</td>\n",
       "                        <td id=\"T_3f1f618c_c22a_11ea_afdb_74dfbfff32b6row8_col1\" class=\"data row8 col1\" >0</td>\n",
       "            </tr>\n",
       "            <tr>\n",
       "                        <th id=\"T_3f1f618c_c22a_11ea_afdb_74dfbfff32b6level0_row9\" class=\"row_heading level0 row9\" >description</th>\n",
       "                        <td id=\"T_3f1f618c_c22a_11ea_afdb_74dfbfff32b6row9_col0\" class=\"data row9 col0\" >0</td>\n",
       "                        <td id=\"T_3f1f618c_c22a_11ea_afdb_74dfbfff32b6row9_col1\" class=\"data row9 col1\" >0</td>\n",
       "            </tr>\n",
       "    </tbody></table>"
      ],
      "text/plain": [
       "<pandas.io.formats.style.Styler at 0x22aa5631908>"
      ]
     },
     "execution_count": 113,
     "metadata": {},
     "output_type": "execute_result"
    }
   ],
   "source": [
    "# Missing Value Table\n",
    "def missing_value_table(df):\n",
    "    missing_value = df.isna().sum().sort_values(ascending=False)\n",
    "    missing_value_percent = 100 * df.isna().sum()//len(df)\n",
    "    missing_value_table = pd.concat([missing_value, missing_value_percent], axis=1)\n",
    "    missing_value_table_return = missing_value_table.rename(columns = {0 : 'Missing Values', 1 : '% Value'})\n",
    "    cm = sns.light_palette(\"red\", as_cmap=True)\n",
    "    missing_value_table_return = missing_value_table_return.style.background_gradient(cmap=cm)\n",
    "    return missing_value_table_return\n",
    "  \n",
    "missing_value_table(df)"
   ]
  },
  {
   "cell_type": "markdown",
   "metadata": {},
   "source": [
    "<a id=\"5\"></a>\n",
    "## Operations on Missing Values"
   ]
  },
  {
   "cell_type": "markdown",
   "metadata": {},
   "source": [
    "### Deleting Missing Values"
   ]
  },
  {
   "cell_type": "markdown",
   "metadata": {},
   "source": [
    "* Since there is 59% missing value in region_2 variable, it is decided to delete it."
   ]
  },
  {
   "cell_type": "code",
   "execution_count": 114,
   "metadata": {},
   "outputs": [],
   "source": [
    "df.drop(\"region_2\", axis = 1, inplace = True)"
   ]
  },
  {
   "cell_type": "markdown",
   "metadata": {},
   "source": [
    "### Filling in the Missing Values"
   ]
  },
  {
   "cell_type": "markdown",
   "metadata": {},
   "source": [
    "* In order to fill the missing values in the price variable, the average of the price variable is calculated according to the country and province variables."
   ]
  },
  {
   "cell_type": "code",
   "execution_count": 115,
   "metadata": {},
   "outputs": [],
   "source": [
    "df['price'] = df['price'].fillna(df.groupby(['country','province'])['price'].transform('mean'))"
   ]
  },
  {
   "cell_type": "markdown",
   "metadata": {},
   "source": [
    "* Although we filled the price variable, the reason for showing 28 missing values ​​is that there is no price for the wine in that country and the city."
   ]
  },
  {
   "cell_type": "code",
   "execution_count": 116,
   "metadata": {},
   "outputs": [
    {
     "data": {
      "text/plain": [
       "country            5\n",
       "description        0\n",
       "designation    45735\n",
       "points             0\n",
       "price             28\n",
       "province           5\n",
       "region_1       25060\n",
       "variety            0\n",
       "winery             0\n",
       "dtype: int64"
      ]
     },
     "execution_count": 116,
     "metadata": {},
     "output_type": "execute_result"
    }
   ],
   "source": [
    "df.isnull().sum()"
   ]
  },
  {
   "cell_type": "markdown",
   "metadata": {},
   "source": [
    "* 28 price values that could not be filled with the average were deleted from the dataset."
   ]
  },
  {
   "cell_type": "code",
   "execution_count": 117,
   "metadata": {},
   "outputs": [],
   "source": [
    "df = df[~(df.price.isnull())]"
   ]
  },
  {
   "cell_type": "markdown",
   "metadata": {},
   "source": [
    "* When filling other variables, it will be filled according to the previous value. The data set for this operation is sorted by country, province and region 1 variable."
   ]
  },
  {
   "cell_type": "code",
   "execution_count": 118,
   "metadata": {},
   "outputs": [
    {
     "data": {
      "text/html": [
       "<div>\n",
       "<style scoped>\n",
       "    .dataframe tbody tr th:only-of-type {\n",
       "        vertical-align: middle;\n",
       "    }\n",
       "\n",
       "    .dataframe tbody tr th {\n",
       "        vertical-align: top;\n",
       "    }\n",
       "\n",
       "    .dataframe thead th {\n",
       "        text-align: right;\n",
       "    }\n",
       "</style>\n",
       "<table border=\"1\" class=\"dataframe\">\n",
       "  <thead>\n",
       "    <tr style=\"text-align: right;\">\n",
       "      <th></th>\n",
       "      <th>country</th>\n",
       "      <th>description</th>\n",
       "      <th>designation</th>\n",
       "      <th>points</th>\n",
       "      <th>price</th>\n",
       "      <th>province</th>\n",
       "      <th>region_1</th>\n",
       "      <th>variety</th>\n",
       "      <th>winery</th>\n",
       "    </tr>\n",
       "  </thead>\n",
       "  <tbody>\n",
       "    <tr>\n",
       "      <th>4642</th>\n",
       "      <td>Albania</td>\n",
       "      <td>This garnet-colored wine made from 100% Kallme...</td>\n",
       "      <td>NaN</td>\n",
       "      <td>88</td>\n",
       "      <td>20.0</td>\n",
       "      <td>Mirditë</td>\n",
       "      <td>NaN</td>\n",
       "      <td>Kallmet</td>\n",
       "      <td>Arbëri</td>\n",
       "    </tr>\n",
       "    <tr>\n",
       "      <th>4864</th>\n",
       "      <td>Albania</td>\n",
       "      <td>This garnet-colored wine made from 100% Kallme...</td>\n",
       "      <td>NaN</td>\n",
       "      <td>88</td>\n",
       "      <td>20.0</td>\n",
       "      <td>Mirditë</td>\n",
       "      <td>NaN</td>\n",
       "      <td>Kallmet</td>\n",
       "      <td>Arbëri</td>\n",
       "    </tr>\n",
       "    <tr>\n",
       "      <th>269</th>\n",
       "      <td>Argentina</td>\n",
       "      <td>Immediately this smells raisiny, but with time...</td>\n",
       "      <td>Single Vineyard Reserva</td>\n",
       "      <td>88</td>\n",
       "      <td>15.0</td>\n",
       "      <td>Mendoza Province</td>\n",
       "      <td>Agrelo</td>\n",
       "      <td>Cabernet Sauvignon</td>\n",
       "      <td>Lamadrid</td>\n",
       "    </tr>\n",
       "    <tr>\n",
       "      <th>6003</th>\n",
       "      <td>Argentina</td>\n",
       "      <td>Light prune aromas signify a wine on the cusp....</td>\n",
       "      <td>Malbec-Merlot-Cabernet Sauvignon</td>\n",
       "      <td>81</td>\n",
       "      <td>19.0</td>\n",
       "      <td>Mendoza Province</td>\n",
       "      <td>Agrelo</td>\n",
       "      <td>Bordeaux-style Red Blend</td>\n",
       "      <td>Trapezio</td>\n",
       "    </tr>\n",
       "    <tr>\n",
       "      <th>13438</th>\n",
       "      <td>Argentina</td>\n",
       "      <td>Blackberry and rubber aromas are friendly and ...</td>\n",
       "      <td>Reserva Old Vine</td>\n",
       "      <td>90</td>\n",
       "      <td>29.0</td>\n",
       "      <td>Mendoza Province</td>\n",
       "      <td>Agrelo</td>\n",
       "      <td>Malbec</td>\n",
       "      <td>Martino</td>\n",
       "    </tr>\n",
       "  </tbody>\n",
       "</table>\n",
       "</div>"
      ],
      "text/plain": [
       "         country                                        description  \\\n",
       "4642     Albania  This garnet-colored wine made from 100% Kallme...   \n",
       "4864     Albania  This garnet-colored wine made from 100% Kallme...   \n",
       "269    Argentina  Immediately this smells raisiny, but with time...   \n",
       "6003   Argentina  Light prune aromas signify a wine on the cusp....   \n",
       "13438  Argentina  Blackberry and rubber aromas are friendly and ...   \n",
       "\n",
       "                            designation  points  price          province  \\\n",
       "4642                                NaN      88   20.0           Mirditë   \n",
       "4864                                NaN      88   20.0           Mirditë   \n",
       "269             Single Vineyard Reserva      88   15.0  Mendoza Province   \n",
       "6003   Malbec-Merlot-Cabernet Sauvignon      81   19.0  Mendoza Province   \n",
       "13438                  Reserva Old Vine      90   29.0  Mendoza Province   \n",
       "\n",
       "      region_1                   variety    winery  \n",
       "4642       NaN                   Kallmet    Arbëri  \n",
       "4864       NaN                   Kallmet    Arbëri  \n",
       "269     Agrelo        Cabernet Sauvignon  Lamadrid  \n",
       "6003    Agrelo  Bordeaux-style Red Blend  Trapezio  \n",
       "13438   Agrelo                    Malbec   Martino  "
      ]
     },
     "execution_count": 118,
     "metadata": {},
     "output_type": "execute_result"
    }
   ],
   "source": [
    "df=df.sort_values(by=[\"country\",\"province\",\"region_1\"],ascending=True)\n",
    "df.head()"
   ]
  },
  {
   "cell_type": "markdown",
   "metadata": {},
   "source": [
    "* Filling with the previous value."
   ]
  },
  {
   "cell_type": "code",
   "execution_count": 119,
   "metadata": {},
   "outputs": [],
   "source": [
    "df=df.fillna(method=\"ffill\")"
   ]
  },
  {
   "cell_type": "markdown",
   "metadata": {},
   "source": [
    "<a id=\"6\"></a>\n",
    "# Outlier Value Analysis"
   ]
  },
  {
   "cell_type": "markdown",
   "metadata": {},
   "source": [
    "*Observations that go far beyond the general trend in the data or that are quite different from other observations are called contradictory observations.*"
   ]
  },
  {
   "cell_type": "markdown",
   "metadata": {},
   "source": [
    "<a id=\"7\"></a>\n",
    "## Outlier Value Detection Using Boxplot and Histogram"
   ]
  },
  {
   "cell_type": "markdown",
   "metadata": {},
   "source": [
    "* For Points:\n",
    "    The minimum value is 80, the maximum value is 100. This is actually a variable that is between certain values, so it would be unreasonable to study outliers."
   ]
  },
  {
   "cell_type": "code",
   "execution_count": 120,
   "metadata": {},
   "outputs": [
    {
     "data": {
      "image/png": "[encoded data removed]",
      "text/plain": [
       "<Figure size 720x720 with 2 Axes>"
      ]
     },
     "metadata": {
      "needs_background": "light"
     },
     "output_type": "display_data"
    }
   ],
   "source": [
    "plt.subplot(2,1,1)\n",
    "df.points.plot(kind='hist',color='pink',bins=50,figsize=(10,10))\n",
    "plt.title(\"Points Variable Histogram Chart\");\n",
    "\n",
    "\n",
    "plt.subplot(2,1,2)\n",
    "df.price.plot(kind='hist',color='pink',bins=50,figsize=(10,10))\n",
    "plt.title(\"Price Variable Histogram Chart\");"
   ]
  },
  {
   "cell_type": "markdown",
   "metadata": {},
   "source": [
    "<a id=\"8\"></a>\n",
    "## Outlier Value Analysis With IQR"
   ]
  },
  {
   "cell_type": "markdown",
   "metadata": {},
   "source": [
    "* Points with Boxplot"
   ]
  },
  {
   "cell_type": "code",
   "execution_count": 121,
   "metadata": {},
   "outputs": [
    {
     "data": {
      "image/png": "[encoded data removed]",
      "text/plain": [
       "<Figure size 432x288 with 1 Axes>"
      ]
     },
     "metadata": {
      "needs_background": "light"
     },
     "output_type": "display_data"
    }
   ],
   "source": [
    "sns.boxplot(df.points);"
   ]
  },
  {
   "cell_type": "markdown",
   "metadata": {},
   "source": [
    "* Price with Boxplot"
   ]
  },
  {
   "cell_type": "code",
   "execution_count": 122,
   "metadata": {},
   "outputs": [
    {
     "data": {
      "image/png": "[encoded data removed]",
      "text/plain": [
       "<Figure size 432x288 with 1 Axes>"
      ]
     },
     "metadata": {
      "needs_background": "light"
     },
     "output_type": "display_data"
    }
   ],
   "source": [
    "sns.boxplot(df.price);"
   ]
  },
  {
   "cell_type": "markdown",
   "metadata": {},
   "source": [
    "**IQR (Interquartile Range)**"
   ]
  },
  {
   "cell_type": "markdown",
   "metadata": {},
   "source": [
    "IQR is the distance between the first quarter Q1 and the third quarter Q3. Using IQR, upper and lower limit values are calculated as follows."
   ]
  },
  {
   "cell_type": "code",
   "execution_count": 123,
   "metadata": {},
   "outputs": [],
   "source": [
    "Q1 = df.price.quantile(0.25)\n",
    "Q3 = df.price.quantile(0.75)\n",
    "IQR = Q3 - Q1"
   ]
  },
  {
   "cell_type": "code",
   "execution_count": 124,
   "metadata": {},
   "outputs": [
    {
     "name": "stdout",
     "output_type": "stream",
     "text": [
      "Q1: 16.0\n",
      "Q3: 42.0\n",
      "IQR: 26.0\n"
     ]
    }
   ],
   "source": [
    "print(\"Q1:\",Q1)\n",
    "print(\"Q3:\",Q3)\n",
    "print(\"IQR:\",IQR)"
   ]
  },
  {
   "cell_type": "code",
   "execution_count": 125,
   "metadata": {},
   "outputs": [],
   "source": [
    "upper_value = Q3 + 1.5*IQR\n",
    "lower_value = Q1 - 1.5*IQR"
   ]
  },
  {
   "cell_type": "code",
   "execution_count": 126,
   "metadata": {},
   "outputs": [
    {
     "name": "stdout",
     "output_type": "stream",
     "text": [
      "upper_value: 81.0\n",
      "lower_value: -23.0\n"
     ]
    }
   ],
   "source": [
    "print(\"upper_value:\",upper_value)\n",
    "print(\"lower_value:\",lower_value)"
   ]
  },
  {
   "cell_type": "markdown",
   "metadata": {},
   "source": [
    "* Using the threshold values, outliers in the data set are detected."
   ]
  },
  {
   "cell_type": "code",
   "execution_count": 127,
   "metadata": {},
   "outputs": [],
   "source": [
    "outlier_values = (df.price < lower_value) | (df.price > upper_value)"
   ]
  },
  {
   "cell_type": "markdown",
   "metadata": {},
   "source": [
    "* Total outliers."
   ]
  },
  {
   "cell_type": "code",
   "execution_count": 128,
   "metadata": {},
   "outputs": [
    {
     "data": {
      "text/plain": [
       "6780"
      ]
     },
     "execution_count": 128,
     "metadata": {},
     "output_type": "execute_result"
    }
   ],
   "source": [
    "df.price[outlier_values].value_counts().sum() "
   ]
  },
  {
   "cell_type": "markdown",
   "metadata": {},
   "source": [
    "**Outliers Value Correction**"
   ]
  },
  {
   "cell_type": "code",
   "execution_count": 129,
   "metadata": {},
   "outputs": [
    {
     "data": {
      "text/plain": [
       "6780"
      ]
     },
     "execution_count": 129,
     "metadata": {},
     "output_type": "execute_result"
    }
   ],
   "source": [
    "upper_outlier = df.price> upper_value\n",
    "upper_outlier.sum()"
   ]
  },
  {
   "cell_type": "markdown",
   "metadata": {},
   "source": [
    "* All outliers are upper outliers."
   ]
  },
  {
   "cell_type": "code",
   "execution_count": 130,
   "metadata": {},
   "outputs": [],
   "source": [
    "df.price[upper_outlier] = upper_value"
   ]
  },
  {
   "cell_type": "markdown",
   "metadata": {},
   "source": [
    "* After Correction"
   ]
  },
  {
   "cell_type": "code",
   "execution_count": 131,
   "metadata": {},
   "outputs": [
    {
     "data": {
      "image/png": "[encoded data removed]",
      "text/plain": [
       "<Figure size 432x288 with 1 Axes>"
      ]
     },
     "metadata": {
      "needs_background": "light"
     },
     "output_type": "display_data"
    }
   ],
   "source": [
    "sns.boxplot(df.price);"
   ]
  }
 ],
 "metadata": {
  "kernelspec": {
   "display_name": "Python 3",
   "language": "python",
   "name": "python3"
  },
  "language_info": {
   "codemirror_mode": {
    "name": "ipython",
    "version": 3
   },
   "file_extension": ".py",
   "mimetype": "text/x-python",
   "name": "python",
   "nbconvert_exporter": "python",
   "pygments_lexer": "ipython3",
   "version": "3.7.1"
  }
 },
 "nbformat": 4,
 "nbformat_minor": 2
}
